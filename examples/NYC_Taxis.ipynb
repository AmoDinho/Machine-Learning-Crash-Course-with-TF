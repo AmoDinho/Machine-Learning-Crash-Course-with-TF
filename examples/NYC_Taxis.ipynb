{
  "nbformat": 4,
  "nbformat_minor": 0,
  "metadata": {
    "colab": {
      "name": "NYC Taxis.ipynb",
      "version": "0.3.2",
      "provenance": []
    },
    "kernelspec": {
      "name": "python3",
      "display_name": "Python 3"
    }
  },
  "cells": [
    {
      "cell_type": "markdown",
      "metadata": {
        "id": "view-in-github",
        "colab_type": "text"
      },
      "source": [
        "[View in Colaboratory](https://colab.research.google.com/github/AmoDinho/Machine-Learning-Crash-Course-with-TF/blob/master/examples/NYC_Taxis.ipynb)"
      ]
    },
    {
      "metadata": {
        "id": "RWGrYrIjwEyQ",
        "colab_type": "text"
      },
      "cell_type": "markdown",
      "source": [
        "# NYC Taxi Trip Data for 2016\n",
        "\n",
        "The goal of this study is to try and predict the the total trip amount. We will use Tensorflow to do this. But most importantly we will use linear regression.\n",
        "\n",
        "# Learning Objectives\n",
        "* Use the LinearRefressor class in TF tp predict the number the shares based on the number of words in the content."
      ]
    },
    {
      "metadata": {
        "id": "yd4cyK8jxJX6",
        "colab_type": "text"
      },
      "cell_type": "markdown",
      "source": [
        "# Setup\n"
      ]
    },
    {
      "metadata": {
        "id": "9Jd7GsRDxG1e",
        "colab_type": "code",
        "colab": {}
      },
      "cell_type": "code",
      "source": [
        "import math\n",
        "\n",
        "from IPython import display\n",
        "from matplotlib import cm\n",
        "from matplotlib import gridspec\n",
        "from matplotlib import pyplot as plt\n",
        "import numpy as np\n",
        "import pandas as pd\n",
        "from sklearn import metrics\n",
        "import tensorflow as tf\n",
        "from tensorflow.python.data import Dataset\n",
        "\n",
        "tf.logging.set_verbosity(tf.logging.ERROR)\n",
        "pd.options.display.max_rows = 10\n",
        "pd.options.display.float_format = '{:.1f}'.format"
      ],
      "execution_count": 0,
      "outputs": []
    },
    {
      "metadata": {
        "id": "sVsfOPIxxSRV",
        "colab_type": "text"
      },
      "cell_type": "markdown",
      "source": [
        "Lets load our dataset"
      ]
    },
    {
      "metadata": {
        "id": "ehoi999IxU_t",
        "colab_type": "code",
        "colab": {}
      },
      "cell_type": "code",
      "source": [
        "df_taxi = pd.read_csv(\"https://storage.googleapis.com/machinelearning_datasets/tlc_yellow_trips_2016.csv\", sep=\",\")"
      ],
      "execution_count": 0,
      "outputs": []
    },
    {
      "metadata": {
        "id": "6Vij-XEcxtzs",
        "colab_type": "code",
        "colab": {
          "base_uri": "https://localhost:8080/",
          "height": 272
        },
        "outputId": "ba1b523e-6854-4307-c6b0-f03f95bd2a04"
      },
      "cell_type": "code",
      "source": [
        "df_taxi.info()"
      ],
      "execution_count": 5,
      "outputs": [
        {
          "output_type": "stream",
          "text": [
            "<class 'pandas.core.frame.DataFrame'>\n",
            "RangeIndex: 2000 entries, 0 to 1999\n",
            "Data columns (total 10 columns):\n",
            "vendor_id          2000 non-null int64\n",
            "passenger_count    2000 non-null int64\n",
            "trip_distance      2000 non-null float64\n",
            "fare_amount        2000 non-null float64\n",
            "extra              2000 non-null float64\n",
            "mta_tax            2000 non-null float64\n",
            "tip_amount         2000 non-null float64\n",
            "tolls_amount       2000 non-null float64\n",
            "imp_surcharge      2000 non-null float64\n",
            "total_amount       2000 non-null float64\n",
            "dtypes: float64(8), int64(2)\n",
            "memory usage: 156.3 KB\n"
          ],
          "name": "stdout"
        }
      ]
    },
    {
      "metadata": {
        "id": "muOVFLgSx78u",
        "colab_type": "code",
        "colab": {
          "base_uri": "https://localhost:8080/",
          "height": 297
        },
        "outputId": "efea2030-fb62-4bbf-f81c-b9241568b06f"
      },
      "cell_type": "code",
      "source": [
        "df_taxi.describe()"
      ],
      "execution_count": 7,
      "outputs": [
        {
          "output_type": "execute_result",
          "data": {
            "text/html": [
              "<div>\n",
              "<style scoped>\n",
              "    .dataframe tbody tr th:only-of-type {\n",
              "        vertical-align: middle;\n",
              "    }\n",
              "\n",
              "    .dataframe tbody tr th {\n",
              "        vertical-align: top;\n",
              "    }\n",
              "\n",
              "    .dataframe thead th {\n",
              "        text-align: right;\n",
              "    }\n",
              "</style>\n",
              "<table border=\"1\" class=\"dataframe\">\n",
              "  <thead>\n",
              "    <tr style=\"text-align: right;\">\n",
              "      <th></th>\n",
              "      <th>vendor_id</th>\n",
              "      <th>passenger_count</th>\n",
              "      <th>trip_distance</th>\n",
              "      <th>fare_amount</th>\n",
              "      <th>extra</th>\n",
              "      <th>mta_tax</th>\n",
              "      <th>tip_amount</th>\n",
              "      <th>tolls_amount</th>\n",
              "      <th>imp_surcharge</th>\n",
              "      <th>total_amount</th>\n",
              "    </tr>\n",
              "  </thead>\n",
              "  <tbody>\n",
              "    <tr>\n",
              "      <th>count</th>\n",
              "      <td>2000.0</td>\n",
              "      <td>2000.0</td>\n",
              "      <td>2000.0</td>\n",
              "      <td>2000.0</td>\n",
              "      <td>2000.0</td>\n",
              "      <td>2000.0</td>\n",
              "      <td>2000.0</td>\n",
              "      <td>2000.0</td>\n",
              "      <td>2000.0</td>\n",
              "      <td>2000.0</td>\n",
              "    </tr>\n",
              "    <tr>\n",
              "      <th>mean</th>\n",
              "      <td>3.0</td>\n",
              "      <td>1.0</td>\n",
              "      <td>3.1</td>\n",
              "      <td>13.5</td>\n",
              "      <td>0.4</td>\n",
              "      <td>0.5</td>\n",
              "      <td>1.2</td>\n",
              "      <td>0.4</td>\n",
              "      <td>0.3</td>\n",
              "      <td>16.4</td>\n",
              "    </tr>\n",
              "    <tr>\n",
              "      <th>std</th>\n",
              "      <td>0.0</td>\n",
              "      <td>0.1</td>\n",
              "      <td>3.8</td>\n",
              "      <td>12.0</td>\n",
              "      <td>1.0</td>\n",
              "      <td>0.0</td>\n",
              "      <td>3.9</td>\n",
              "      <td>1.9</td>\n",
              "      <td>0.0</td>\n",
              "      <td>14.8</td>\n",
              "    </tr>\n",
              "    <tr>\n",
              "      <th>min</th>\n",
              "      <td>3.0</td>\n",
              "      <td>1.0</td>\n",
              "      <td>0.0</td>\n",
              "      <td>2.5</td>\n",
              "      <td>0.0</td>\n",
              "      <td>0.0</td>\n",
              "      <td>0.0</td>\n",
              "      <td>0.0</td>\n",
              "      <td>0.0</td>\n",
              "      <td>3.3</td>\n",
              "    </tr>\n",
              "    <tr>\n",
              "      <th>25%</th>\n",
              "      <td>3.0</td>\n",
              "      <td>1.0</td>\n",
              "      <td>0.9</td>\n",
              "      <td>6.5</td>\n",
              "      <td>0.0</td>\n",
              "      <td>0.5</td>\n",
              "      <td>0.0</td>\n",
              "      <td>0.0</td>\n",
              "      <td>0.3</td>\n",
              "      <td>8.3</td>\n",
              "    </tr>\n",
              "    <tr>\n",
              "      <th>50%</th>\n",
              "      <td>3.0</td>\n",
              "      <td>1.0</td>\n",
              "      <td>1.7</td>\n",
              "      <td>9.5</td>\n",
              "      <td>0.5</td>\n",
              "      <td>0.5</td>\n",
              "      <td>0.0</td>\n",
              "      <td>0.0</td>\n",
              "      <td>0.3</td>\n",
              "      <td>11.8</td>\n",
              "    </tr>\n",
              "    <tr>\n",
              "      <th>75%</th>\n",
              "      <td>3.0</td>\n",
              "      <td>1.0</td>\n",
              "      <td>3.3</td>\n",
              "      <td>15.0</td>\n",
              "      <td>0.5</td>\n",
              "      <td>0.5</td>\n",
              "      <td>1.6</td>\n",
              "      <td>0.0</td>\n",
              "      <td>0.3</td>\n",
              "      <td>17.8</td>\n",
              "    </tr>\n",
              "    <tr>\n",
              "      <th>max</th>\n",
              "      <td>3.0</td>\n",
              "      <td>4.0</td>\n",
              "      <td>41.6</td>\n",
              "      <td>180.0</td>\n",
              "      <td>18.0</td>\n",
              "      <td>0.5</td>\n",
              "      <td>126.0</td>\n",
              "      <td>37.0</td>\n",
              "      <td>0.6</td>\n",
              "      <td>214.3</td>\n",
              "    </tr>\n",
              "  </tbody>\n",
              "</table>\n",
              "</div>"
            ],
            "text/plain": [
              "       vendor_id  passenger_count  trip_distance  fare_amount  extra  mta_tax  \\\n",
              "count     2000.0           2000.0         2000.0       2000.0 2000.0   2000.0   \n",
              "mean         3.0              1.0            3.1         13.5    0.4      0.5   \n",
              "std          0.0              0.1            3.8         12.0    1.0      0.0   \n",
              "min          3.0              1.0            0.0          2.5    0.0      0.0   \n",
              "25%          3.0              1.0            0.9          6.5    0.0      0.5   \n",
              "50%          3.0              1.0            1.7          9.5    0.5      0.5   \n",
              "75%          3.0              1.0            3.3         15.0    0.5      0.5   \n",
              "max          3.0              4.0           41.6        180.0   18.0      0.5   \n",
              "\n",
              "       tip_amount  tolls_amount  imp_surcharge  total_amount  \n",
              "count      2000.0        2000.0         2000.0        2000.0  \n",
              "mean          1.2           0.4            0.3          16.4  \n",
              "std           3.9           1.9            0.0          14.8  \n",
              "min           0.0           0.0            0.0           3.3  \n",
              "25%           0.0           0.0            0.3           8.3  \n",
              "50%           0.0           0.0            0.3          11.8  \n",
              "75%           1.6           0.0            0.3          17.8  \n",
              "max         126.0          37.0            0.6         214.3  "
            ]
          },
          "metadata": {
            "tags": []
          },
          "execution_count": 7
        }
      ]
    },
    {
      "metadata": {
        "id": "HPFrWOkpyTW2",
        "colab_type": "text"
      },
      "cell_type": "markdown",
      "source": [
        "# EDA\n",
        "\n",
        "\n",
        "\n",
        "*   Check distributions of total_amount,trip_distance, fare_amount and passenger_count\n",
        "*   check the strenght between relationships.\n",
        "\n"
      ]
    },
    {
      "metadata": {
        "id": "KWO10LNZyv8T",
        "colab_type": "text"
      },
      "cell_type": "markdown",
      "source": [
        "# Data Preprocessing"
      ]
    },
    {
      "metadata": {
        "id": "hfyNXMySyzBS",
        "colab_type": "text"
      },
      "cell_type": "markdown",
      "source": [
        "# ML Pipeline"
      ]
    },
    {
      "metadata": {
        "id": "mNYpKUIByFi4",
        "colab_type": "code",
        "colab": {}
      },
      "cell_type": "code",
      "source": [
        ""
      ],
      "execution_count": 0,
      "outputs": []
    }
  ]
}