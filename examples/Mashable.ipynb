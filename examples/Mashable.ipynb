{
  "nbformat": 4,
  "nbformat_minor": 0,
  "metadata": {
    "colab": {
      "name": "Mashable.ipynb",
      "version": "0.3.2",
      "provenance": []
    },
    "kernelspec": {
      "name": "python3",
      "display_name": "Python 3"
    }
  },
  "cells": [
    {
      "cell_type": "markdown",
      "metadata": {
        "id": "view-in-github",
        "colab_type": "text"
      },
      "source": [
        "[View in Colaboratory](https://colab.research.google.com/github/AmoDinho/Machine-Learning-Crash-Course-with-TF/blob/master/examples/Mashable.ipynb)"
      ]
    },
    {
      "metadata": {
        "id": "2WqVNG2oMvfR",
        "colab_type": "text"
      },
      "cell_type": "markdown",
      "source": [
        "# Predicting the number of shares in social networks on Mashable's articles"
      ]
    },
    {
      "metadata": {
        "id": "cYydLXj3NY14",
        "colab_type": "text"
      },
      "cell_type": "markdown",
      "source": [
        "This dataset was obtained from the [UCI Machine Learning Repo](https://archive.ics.uci.edu/ml/datasets/). The goal is really simple, we will use a linear regression model to predict the number of shares on social media of Mashable's articles based on the number of words in the content using Tensor Flow.  "
      ]
    },
    {
      "metadata": {
        "id": "dhCBzhbNOI37",
        "colab_type": "text"
      },
      "cell_type": "markdown",
      "source": [
        "# Learning Objectives\n",
        "\n",
        "\n",
        "\n",
        "*   Use the LinearRefressor class in TF tp predict the number the shares based on the number of words in the content. \n",
        "\n"
      ]
    },
    {
      "metadata": {
        "id": "haDKWdALJwnU",
        "colab_type": "text"
      },
      "cell_type": "markdown",
      "source": [
        "# Setup \n",
        "\n"
      ]
    },
    {
      "metadata": {
        "id": "0kALPj6qJ1gx",
        "colab_type": "code",
        "colab": {
          "base_uri": "https://localhost:8080/",
          "height": 17
        },
        "outputId": "328ee36a-9bed-4591-b8c1-89aca22cd413"
      },
      "cell_type": "code",
      "source": [
        "import math\n",
        "\n",
        "from IPython import display\n",
        "from matplotlib import cm\n",
        "from matplotlib import gridspec\n",
        "from matplotlib import pyplot as plt\n",
        "import numpy as np\n",
        "import pandas as pd\n",
        "from sklearn import metrics\n",
        "import tensorflow as tf\n",
        "from tensorflow.python.data import Dataset\n",
        "\n",
        "tf.logging.set_verbosity(tf.logging.ERROR)\n",
        "pd.options.display.max_rows = 10\n",
        "pd.options.display.float_format = '{:.1f}'.format"
      ],
      "execution_count": 1,
      "outputs": []
    },
    {
      "metadata": {
        "id": "qpKc-TQAKmAA",
        "colab_type": "text"
      },
      "cell_type": "markdown",
      "source": [
        "Lets load our data Set"
      ]
    },
    {
      "metadata": {
        "id": "1AluPTjIKoSm",
        "colab_type": "code",
        "colab": {
          "base_uri": "https://localhost:8080/",
          "height": 17
        },
        "outputId": "fad632b3-a05b-47cd-91c6-efd2f11f76cc"
      },
      "cell_type": "code",
      "source": [
        "mashable_df = pd.read_csv(\"https://storage.googleapis.com/machinelearning_datasets/Mashable/OnlineNewsPopularity.csv\", sep=\",\")"
      ],
      "execution_count": 2,
      "outputs": []
    },
    {
      "metadata": {
        "id": "x8XONqjoMxXn",
        "colab_type": "code",
        "colab": {
          "base_uri": "https://localhost:8080/",
          "height": 338
        },
        "outputId": "56566771-d89d-486d-d72d-0fcbfb70beca"
      },
      "cell_type": "code",
      "source": [
        "mashable_df.head()\n"
      ],
      "execution_count": 6,
      "outputs": [
        {
          "output_type": "execute_result",
          "data": {
            "text/html": [
              "<div>\n",
              "<style scoped>\n",
              "    .dataframe tbody tr th:only-of-type {\n",
              "        vertical-align: middle;\n",
              "    }\n",
              "\n",
              "    .dataframe tbody tr th {\n",
              "        vertical-align: top;\n",
              "    }\n",
              "\n",
              "    .dataframe thead th {\n",
              "        text-align: right;\n",
              "    }\n",
              "</style>\n",
              "<table border=\"1\" class=\"dataframe\">\n",
              "  <thead>\n",
              "    <tr style=\"text-align: right;\">\n",
              "      <th></th>\n",
              "      <th>url</th>\n",
              "      <th>timedelta</th>\n",
              "      <th>n_tokens_title</th>\n",
              "      <th>n_tokens_content</th>\n",
              "      <th>n_unique_tokens</th>\n",
              "      <th>n_non_stop_words</th>\n",
              "      <th>n_non_stop_unique_tokens</th>\n",
              "      <th>num_hrefs</th>\n",
              "      <th>num_self_hrefs</th>\n",
              "      <th>num_imgs</th>\n",
              "      <th>...</th>\n",
              "      <th>min_positive_polarity</th>\n",
              "      <th>max_positive_polarity</th>\n",
              "      <th>avg_negative_polarity</th>\n",
              "      <th>min_negative_polarity</th>\n",
              "      <th>max_negative_polarity</th>\n",
              "      <th>title_subjectivity</th>\n",
              "      <th>title_sentiment_polarity</th>\n",
              "      <th>abs_title_subjectivity</th>\n",
              "      <th>abs_title_sentiment_polarity</th>\n",
              "      <th>shares</th>\n",
              "    </tr>\n",
              "  </thead>\n",
              "  <tbody>\n",
              "    <tr>\n",
              "      <th>0</th>\n",
              "      <td>http://mashable.com/2013/01/07/amazon-instant-...</td>\n",
              "      <td>731.0</td>\n",
              "      <td>12.0</td>\n",
              "      <td>219.0</td>\n",
              "      <td>0.7</td>\n",
              "      <td>1.0</td>\n",
              "      <td>0.8</td>\n",
              "      <td>4.0</td>\n",
              "      <td>2.0</td>\n",
              "      <td>1.0</td>\n",
              "      <td>...</td>\n",
              "      <td>0.1</td>\n",
              "      <td>0.7</td>\n",
              "      <td>-0.3</td>\n",
              "      <td>-0.6</td>\n",
              "      <td>-0.2</td>\n",
              "      <td>0.5</td>\n",
              "      <td>-0.2</td>\n",
              "      <td>0.0</td>\n",
              "      <td>0.2</td>\n",
              "      <td>593</td>\n",
              "    </tr>\n",
              "    <tr>\n",
              "      <th>1</th>\n",
              "      <td>http://mashable.com/2013/01/07/ap-samsung-spon...</td>\n",
              "      <td>731.0</td>\n",
              "      <td>9.0</td>\n",
              "      <td>255.0</td>\n",
              "      <td>0.6</td>\n",
              "      <td>1.0</td>\n",
              "      <td>0.8</td>\n",
              "      <td>3.0</td>\n",
              "      <td>1.0</td>\n",
              "      <td>1.0</td>\n",
              "      <td>...</td>\n",
              "      <td>0.0</td>\n",
              "      <td>0.7</td>\n",
              "      <td>-0.1</td>\n",
              "      <td>-0.1</td>\n",
              "      <td>-0.1</td>\n",
              "      <td>0.0</td>\n",
              "      <td>0.0</td>\n",
              "      <td>0.5</td>\n",
              "      <td>0.0</td>\n",
              "      <td>711</td>\n",
              "    </tr>\n",
              "    <tr>\n",
              "      <th>2</th>\n",
              "      <td>http://mashable.com/2013/01/07/apple-40-billio...</td>\n",
              "      <td>731.0</td>\n",
              "      <td>9.0</td>\n",
              "      <td>211.0</td>\n",
              "      <td>0.6</td>\n",
              "      <td>1.0</td>\n",
              "      <td>0.7</td>\n",
              "      <td>3.0</td>\n",
              "      <td>1.0</td>\n",
              "      <td>1.0</td>\n",
              "      <td>...</td>\n",
              "      <td>0.1</td>\n",
              "      <td>1.0</td>\n",
              "      <td>-0.5</td>\n",
              "      <td>-0.8</td>\n",
              "      <td>-0.1</td>\n",
              "      <td>0.0</td>\n",
              "      <td>0.0</td>\n",
              "      <td>0.5</td>\n",
              "      <td>0.0</td>\n",
              "      <td>1500</td>\n",
              "    </tr>\n",
              "    <tr>\n",
              "      <th>3</th>\n",
              "      <td>http://mashable.com/2013/01/07/astronaut-notre...</td>\n",
              "      <td>731.0</td>\n",
              "      <td>9.0</td>\n",
              "      <td>531.0</td>\n",
              "      <td>0.5</td>\n",
              "      <td>1.0</td>\n",
              "      <td>0.7</td>\n",
              "      <td>9.0</td>\n",
              "      <td>0.0</td>\n",
              "      <td>1.0</td>\n",
              "      <td>...</td>\n",
              "      <td>0.1</td>\n",
              "      <td>0.8</td>\n",
              "      <td>-0.4</td>\n",
              "      <td>-0.6</td>\n",
              "      <td>-0.2</td>\n",
              "      <td>0.0</td>\n",
              "      <td>0.0</td>\n",
              "      <td>0.5</td>\n",
              "      <td>0.0</td>\n",
              "      <td>1200</td>\n",
              "    </tr>\n",
              "    <tr>\n",
              "      <th>4</th>\n",
              "      <td>http://mashable.com/2013/01/07/att-u-verse-apps/</td>\n",
              "      <td>731.0</td>\n",
              "      <td>13.0</td>\n",
              "      <td>1072.0</td>\n",
              "      <td>0.4</td>\n",
              "      <td>1.0</td>\n",
              "      <td>0.5</td>\n",
              "      <td>19.0</td>\n",
              "      <td>19.0</td>\n",
              "      <td>20.0</td>\n",
              "      <td>...</td>\n",
              "      <td>0.0</td>\n",
              "      <td>1.0</td>\n",
              "      <td>-0.2</td>\n",
              "      <td>-0.5</td>\n",
              "      <td>-0.1</td>\n",
              "      <td>0.5</td>\n",
              "      <td>0.1</td>\n",
              "      <td>0.0</td>\n",
              "      <td>0.1</td>\n",
              "      <td>505</td>\n",
              "    </tr>\n",
              "  </tbody>\n",
              "</table>\n",
              "<p>5 rows × 61 columns</p>\n",
              "</div>"
            ],
            "text/plain": [
              "                                                 url   timedelta  \\\n",
              "0  http://mashable.com/2013/01/07/amazon-instant-...       731.0   \n",
              "1  http://mashable.com/2013/01/07/ap-samsung-spon...       731.0   \n",
              "2  http://mashable.com/2013/01/07/apple-40-billio...       731.0   \n",
              "3  http://mashable.com/2013/01/07/astronaut-notre...       731.0   \n",
              "4   http://mashable.com/2013/01/07/att-u-verse-apps/       731.0   \n",
              "\n",
              "    n_tokens_title   n_tokens_content   n_unique_tokens   n_non_stop_words  \\\n",
              "0             12.0              219.0               0.7                1.0   \n",
              "1              9.0              255.0               0.6                1.0   \n",
              "2              9.0              211.0               0.6                1.0   \n",
              "3              9.0              531.0               0.5                1.0   \n",
              "4             13.0             1072.0               0.4                1.0   \n",
              "\n",
              "    n_non_stop_unique_tokens   num_hrefs   num_self_hrefs   num_imgs   ...     \\\n",
              "0                        0.8         4.0              2.0        1.0   ...      \n",
              "1                        0.8         3.0              1.0        1.0   ...      \n",
              "2                        0.7         3.0              1.0        1.0   ...      \n",
              "3                        0.7         9.0              0.0        1.0   ...      \n",
              "4                        0.5        19.0             19.0       20.0   ...      \n",
              "\n",
              "    min_positive_polarity   max_positive_polarity   avg_negative_polarity  \\\n",
              "0                     0.1                     0.7                    -0.3   \n",
              "1                     0.0                     0.7                    -0.1   \n",
              "2                     0.1                     1.0                    -0.5   \n",
              "3                     0.1                     0.8                    -0.4   \n",
              "4                     0.0                     1.0                    -0.2   \n",
              "\n",
              "    min_negative_polarity   max_negative_polarity   title_subjectivity  \\\n",
              "0                    -0.6                    -0.2                  0.5   \n",
              "1                    -0.1                    -0.1                  0.0   \n",
              "2                    -0.8                    -0.1                  0.0   \n",
              "3                    -0.6                    -0.2                  0.0   \n",
              "4                    -0.5                    -0.1                  0.5   \n",
              "\n",
              "    title_sentiment_polarity   abs_title_subjectivity  \\\n",
              "0                       -0.2                      0.0   \n",
              "1                        0.0                      0.5   \n",
              "2                        0.0                      0.5   \n",
              "3                        0.0                      0.5   \n",
              "4                        0.1                      0.0   \n",
              "\n",
              "    abs_title_sentiment_polarity   shares  \n",
              "0                            0.2      593  \n",
              "1                            0.0      711  \n",
              "2                            0.0     1500  \n",
              "3                            0.0     1200  \n",
              "4                            0.1      505  \n",
              "\n",
              "[5 rows x 61 columns]"
            ]
          },
          "metadata": {
            "tags": []
          },
          "execution_count": 6
        }
      ]
    },
    {
      "metadata": {
        "id": "uTYyTVh4RnDN",
        "colab_type": "code",
        "colab": {
          "base_uri": "https://localhost:8080/",
          "height": 1139
        },
        "outputId": "c573767f-36ce-40b4-b871-38048b5902d2"
      },
      "cell_type": "code",
      "source": [
        "mashable_df.info()\n"
      ],
      "execution_count": 0,
      "outputs": [
        {
          "output_type": "stream",
          "text": [
            "<class 'pandas.core.frame.DataFrame'>\n",
            "RangeIndex: 39644 entries, 0 to 39643\n",
            "Data columns (total 61 columns):\n",
            "url                               39644 non-null object\n",
            " timedelta                        39644 non-null float64\n",
            " n_tokens_title                   39644 non-null float64\n",
            " n_tokens_content                 39644 non-null float64\n",
            " n_unique_tokens                  39644 non-null float64\n",
            " n_non_stop_words                 39644 non-null float64\n",
            " n_non_stop_unique_tokens         39644 non-null float64\n",
            " num_hrefs                        39644 non-null float64\n",
            " num_self_hrefs                   39644 non-null float64\n",
            " num_imgs                         39644 non-null float64\n",
            " num_videos                       39644 non-null float64\n",
            " average_token_length             39644 non-null float64\n",
            " num_keywords                     39644 non-null float64\n",
            " data_channel_is_lifestyle        39644 non-null float64\n",
            " data_channel_is_entertainment    39644 non-null float64\n",
            " data_channel_is_bus              39644 non-null float64\n",
            " data_channel_is_socmed           39644 non-null float64\n",
            " data_channel_is_tech             39644 non-null float64\n",
            " data_channel_is_world            39644 non-null float64\n",
            " kw_min_min                       39644 non-null float64\n",
            " kw_max_min                       39644 non-null float64\n",
            " kw_avg_min                       39644 non-null float64\n",
            " kw_min_max                       39644 non-null float64\n",
            " kw_max_max                       39644 non-null float64\n",
            " kw_avg_max                       39644 non-null float64\n",
            " kw_min_avg                       39644 non-null float64\n",
            " kw_max_avg                       39644 non-null float64\n",
            " kw_avg_avg                       39644 non-null float64\n",
            " self_reference_min_shares        39644 non-null float64\n",
            " self_reference_max_shares        39644 non-null float64\n",
            " self_reference_avg_sharess       39644 non-null float64\n",
            " weekday_is_monday                39644 non-null float64\n",
            " weekday_is_tuesday               39644 non-null float64\n",
            " weekday_is_wednesday             39644 non-null float64\n",
            " weekday_is_thursday              39644 non-null float64\n",
            " weekday_is_friday                39644 non-null float64\n",
            " weekday_is_saturday              39644 non-null float64\n",
            " weekday_is_sunday                39644 non-null float64\n",
            " is_weekend                       39644 non-null float64\n",
            " LDA_00                           39644 non-null float64\n",
            " LDA_01                           39644 non-null float64\n",
            " LDA_02                           39644 non-null float64\n",
            " LDA_03                           39644 non-null float64\n",
            " LDA_04                           39644 non-null float64\n",
            " global_subjectivity              39644 non-null float64\n",
            " global_sentiment_polarity        39644 non-null float64\n",
            " global_rate_positive_words       39644 non-null float64\n",
            " global_rate_negative_words       39644 non-null float64\n",
            " rate_positive_words              39644 non-null float64\n",
            " rate_negative_words              39644 non-null float64\n",
            " avg_positive_polarity            39644 non-null float64\n",
            " min_positive_polarity            39644 non-null float64\n",
            " max_positive_polarity            39644 non-null float64\n",
            " avg_negative_polarity            39644 non-null float64\n",
            " min_negative_polarity            39644 non-null float64\n",
            " max_negative_polarity            39644 non-null float64\n",
            " title_subjectivity               39644 non-null float64\n",
            " title_sentiment_polarity         39644 non-null float64\n",
            " abs_title_subjectivity           39644 non-null float64\n",
            " abs_title_sentiment_polarity     39644 non-null float64\n",
            " shares                           39644 non-null int64\n",
            "dtypes: float64(59), int64(1), object(1)\n",
            "memory usage: 18.5+ MB\n"
          ],
          "name": "stdout"
        }
      ]
    },
    {
      "metadata": {
        "id": "ntG4EAy2RpFK",
        "colab_type": "code",
        "colab": {
          "base_uri": "https://localhost:8080/",
          "height": 346
        },
        "outputId": "53eee80a-7c89-47ef-86c2-46016a094b5e"
      },
      "cell_type": "code",
      "source": [
        "mashable_df.describe()\n"
      ],
      "execution_count": 0,
      "outputs": [
        {
          "output_type": "execute_result",
          "data": {
            "text/html": [
              "<div>\n",
              "<style scoped>\n",
              "    .dataframe tbody tr th:only-of-type {\n",
              "        vertical-align: middle;\n",
              "    }\n",
              "\n",
              "    .dataframe tbody tr th {\n",
              "        vertical-align: top;\n",
              "    }\n",
              "\n",
              "    .dataframe thead th {\n",
              "        text-align: right;\n",
              "    }\n",
              "</style>\n",
              "<table border=\"1\" class=\"dataframe\">\n",
              "  <thead>\n",
              "    <tr style=\"text-align: right;\">\n",
              "      <th></th>\n",
              "      <th>timedelta</th>\n",
              "      <th>n_tokens_title</th>\n",
              "      <th>n_tokens_content</th>\n",
              "      <th>n_unique_tokens</th>\n",
              "      <th>n_non_stop_words</th>\n",
              "      <th>n_non_stop_unique_tokens</th>\n",
              "      <th>num_hrefs</th>\n",
              "      <th>num_self_hrefs</th>\n",
              "      <th>num_imgs</th>\n",
              "      <th>num_videos</th>\n",
              "      <th>...</th>\n",
              "      <th>min_positive_polarity</th>\n",
              "      <th>max_positive_polarity</th>\n",
              "      <th>avg_negative_polarity</th>\n",
              "      <th>min_negative_polarity</th>\n",
              "      <th>max_negative_polarity</th>\n",
              "      <th>title_subjectivity</th>\n",
              "      <th>title_sentiment_polarity</th>\n",
              "      <th>abs_title_subjectivity</th>\n",
              "      <th>abs_title_sentiment_polarity</th>\n",
              "      <th>shares</th>\n",
              "    </tr>\n",
              "  </thead>\n",
              "  <tbody>\n",
              "    <tr>\n",
              "      <th>count</th>\n",
              "      <td>39644.0</td>\n",
              "      <td>39644.0</td>\n",
              "      <td>39644.0</td>\n",
              "      <td>39644.0</td>\n",
              "      <td>39644.0</td>\n",
              "      <td>39644.0</td>\n",
              "      <td>39644.0</td>\n",
              "      <td>39644.0</td>\n",
              "      <td>39644.0</td>\n",
              "      <td>39644.0</td>\n",
              "      <td>...</td>\n",
              "      <td>39644.0</td>\n",
              "      <td>39644.0</td>\n",
              "      <td>39644.0</td>\n",
              "      <td>39644.0</td>\n",
              "      <td>39644.0</td>\n",
              "      <td>39644.0</td>\n",
              "      <td>39644.0</td>\n",
              "      <td>39644.0</td>\n",
              "      <td>39644.0</td>\n",
              "      <td>39644.0</td>\n",
              "    </tr>\n",
              "    <tr>\n",
              "      <th>mean</th>\n",
              "      <td>354.5</td>\n",
              "      <td>10.4</td>\n",
              "      <td>546.5</td>\n",
              "      <td>0.5</td>\n",
              "      <td>1.0</td>\n",
              "      <td>0.7</td>\n",
              "      <td>10.9</td>\n",
              "      <td>3.3</td>\n",
              "      <td>4.5</td>\n",
              "      <td>1.2</td>\n",
              "      <td>...</td>\n",
              "      <td>0.1</td>\n",
              "      <td>0.8</td>\n",
              "      <td>-0.3</td>\n",
              "      <td>-0.5</td>\n",
              "      <td>-0.1</td>\n",
              "      <td>0.3</td>\n",
              "      <td>0.1</td>\n",
              "      <td>0.3</td>\n",
              "      <td>0.2</td>\n",
              "      <td>3395.4</td>\n",
              "    </tr>\n",
              "    <tr>\n",
              "      <th>std</th>\n",
              "      <td>214.2</td>\n",
              "      <td>2.1</td>\n",
              "      <td>471.1</td>\n",
              "      <td>3.5</td>\n",
              "      <td>5.2</td>\n",
              "      <td>3.3</td>\n",
              "      <td>11.3</td>\n",
              "      <td>3.9</td>\n",
              "      <td>8.3</td>\n",
              "      <td>4.1</td>\n",
              "      <td>...</td>\n",
              "      <td>0.1</td>\n",
              "      <td>0.2</td>\n",
              "      <td>0.1</td>\n",
              "      <td>0.3</td>\n",
              "      <td>0.1</td>\n",
              "      <td>0.3</td>\n",
              "      <td>0.3</td>\n",
              "      <td>0.2</td>\n",
              "      <td>0.2</td>\n",
              "      <td>11627.0</td>\n",
              "    </tr>\n",
              "    <tr>\n",
              "      <th>min</th>\n",
              "      <td>8.0</td>\n",
              "      <td>2.0</td>\n",
              "      <td>0.0</td>\n",
              "      <td>0.0</td>\n",
              "      <td>0.0</td>\n",
              "      <td>0.0</td>\n",
              "      <td>0.0</td>\n",
              "      <td>0.0</td>\n",
              "      <td>0.0</td>\n",
              "      <td>0.0</td>\n",
              "      <td>...</td>\n",
              "      <td>0.0</td>\n",
              "      <td>0.0</td>\n",
              "      <td>-1.0</td>\n",
              "      <td>-1.0</td>\n",
              "      <td>-1.0</td>\n",
              "      <td>0.0</td>\n",
              "      <td>-1.0</td>\n",
              "      <td>0.0</td>\n",
              "      <td>0.0</td>\n",
              "      <td>1.0</td>\n",
              "    </tr>\n",
              "    <tr>\n",
              "      <th>25%</th>\n",
              "      <td>164.0</td>\n",
              "      <td>9.0</td>\n",
              "      <td>246.0</td>\n",
              "      <td>0.5</td>\n",
              "      <td>1.0</td>\n",
              "      <td>0.6</td>\n",
              "      <td>4.0</td>\n",
              "      <td>1.0</td>\n",
              "      <td>1.0</td>\n",
              "      <td>0.0</td>\n",
              "      <td>...</td>\n",
              "      <td>0.1</td>\n",
              "      <td>0.6</td>\n",
              "      <td>-0.3</td>\n",
              "      <td>-0.7</td>\n",
              "      <td>-0.1</td>\n",
              "      <td>0.0</td>\n",
              "      <td>0.0</td>\n",
              "      <td>0.2</td>\n",
              "      <td>0.0</td>\n",
              "      <td>946.0</td>\n",
              "    </tr>\n",
              "    <tr>\n",
              "      <th>50%</th>\n",
              "      <td>339.0</td>\n",
              "      <td>10.0</td>\n",
              "      <td>409.0</td>\n",
              "      <td>0.5</td>\n",
              "      <td>1.0</td>\n",
              "      <td>0.7</td>\n",
              "      <td>8.0</td>\n",
              "      <td>3.0</td>\n",
              "      <td>1.0</td>\n",
              "      <td>0.0</td>\n",
              "      <td>...</td>\n",
              "      <td>0.1</td>\n",
              "      <td>0.8</td>\n",
              "      <td>-0.3</td>\n",
              "      <td>-0.5</td>\n",
              "      <td>-0.1</td>\n",
              "      <td>0.1</td>\n",
              "      <td>0.0</td>\n",
              "      <td>0.5</td>\n",
              "      <td>0.0</td>\n",
              "      <td>1400.0</td>\n",
              "    </tr>\n",
              "    <tr>\n",
              "      <th>75%</th>\n",
              "      <td>542.0</td>\n",
              "      <td>12.0</td>\n",
              "      <td>716.0</td>\n",
              "      <td>0.6</td>\n",
              "      <td>1.0</td>\n",
              "      <td>0.8</td>\n",
              "      <td>14.0</td>\n",
              "      <td>4.0</td>\n",
              "      <td>4.0</td>\n",
              "      <td>1.0</td>\n",
              "      <td>...</td>\n",
              "      <td>0.1</td>\n",
              "      <td>1.0</td>\n",
              "      <td>-0.2</td>\n",
              "      <td>-0.3</td>\n",
              "      <td>-0.1</td>\n",
              "      <td>0.5</td>\n",
              "      <td>0.1</td>\n",
              "      <td>0.5</td>\n",
              "      <td>0.2</td>\n",
              "      <td>2800.0</td>\n",
              "    </tr>\n",
              "    <tr>\n",
              "      <th>max</th>\n",
              "      <td>731.0</td>\n",
              "      <td>23.0</td>\n",
              "      <td>8474.0</td>\n",
              "      <td>701.0</td>\n",
              "      <td>1042.0</td>\n",
              "      <td>650.0</td>\n",
              "      <td>304.0</td>\n",
              "      <td>116.0</td>\n",
              "      <td>128.0</td>\n",
              "      <td>91.0</td>\n",
              "      <td>...</td>\n",
              "      <td>1.0</td>\n",
              "      <td>1.0</td>\n",
              "      <td>0.0</td>\n",
              "      <td>0.0</td>\n",
              "      <td>0.0</td>\n",
              "      <td>1.0</td>\n",
              "      <td>1.0</td>\n",
              "      <td>0.5</td>\n",
              "      <td>1.0</td>\n",
              "      <td>843300.0</td>\n",
              "    </tr>\n",
              "  </tbody>\n",
              "</table>\n",
              "<p>8 rows × 60 columns</p>\n",
              "</div>"
            ],
            "text/plain": [
              "        timedelta   n_tokens_title   n_tokens_content   n_unique_tokens  \\\n",
              "count     39644.0          39644.0            39644.0           39644.0   \n",
              "mean        354.5             10.4              546.5               0.5   \n",
              "std         214.2              2.1              471.1               3.5   \n",
              "min           8.0              2.0                0.0               0.0   \n",
              "25%         164.0              9.0              246.0               0.5   \n",
              "50%         339.0             10.0              409.0               0.5   \n",
              "75%         542.0             12.0              716.0               0.6   \n",
              "max         731.0             23.0             8474.0             701.0   \n",
              "\n",
              "        n_non_stop_words   n_non_stop_unique_tokens   num_hrefs  \\\n",
              "count            39644.0                    39644.0     39644.0   \n",
              "mean                 1.0                        0.7        10.9   \n",
              "std                  5.2                        3.3        11.3   \n",
              "min                  0.0                        0.0         0.0   \n",
              "25%                  1.0                        0.6         4.0   \n",
              "50%                  1.0                        0.7         8.0   \n",
              "75%                  1.0                        0.8        14.0   \n",
              "max               1042.0                      650.0       304.0   \n",
              "\n",
              "        num_self_hrefs   num_imgs   num_videos   ...     \\\n",
              "count          39644.0    39644.0      39644.0   ...      \n",
              "mean               3.3        4.5          1.2   ...      \n",
              "std                3.9        8.3          4.1   ...      \n",
              "min                0.0        0.0          0.0   ...      \n",
              "25%                1.0        1.0          0.0   ...      \n",
              "50%                3.0        1.0          0.0   ...      \n",
              "75%                4.0        4.0          1.0   ...      \n",
              "max              116.0      128.0         91.0   ...      \n",
              "\n",
              "        min_positive_polarity   max_positive_polarity   avg_negative_polarity  \\\n",
              "count                 39644.0                 39644.0                 39644.0   \n",
              "mean                      0.1                     0.8                    -0.3   \n",
              "std                       0.1                     0.2                     0.1   \n",
              "min                       0.0                     0.0                    -1.0   \n",
              "25%                       0.1                     0.6                    -0.3   \n",
              "50%                       0.1                     0.8                    -0.3   \n",
              "75%                       0.1                     1.0                    -0.2   \n",
              "max                       1.0                     1.0                     0.0   \n",
              "\n",
              "        min_negative_polarity   max_negative_polarity   title_subjectivity  \\\n",
              "count                 39644.0                 39644.0              39644.0   \n",
              "mean                     -0.5                    -0.1                  0.3   \n",
              "std                       0.3                     0.1                  0.3   \n",
              "min                      -1.0                    -1.0                  0.0   \n",
              "25%                      -0.7                    -0.1                  0.0   \n",
              "50%                      -0.5                    -0.1                  0.1   \n",
              "75%                      -0.3                    -0.1                  0.5   \n",
              "max                       0.0                     0.0                  1.0   \n",
              "\n",
              "        title_sentiment_polarity   abs_title_subjectivity  \\\n",
              "count                    39644.0                  39644.0   \n",
              "mean                         0.1                      0.3   \n",
              "std                          0.3                      0.2   \n",
              "min                         -1.0                      0.0   \n",
              "25%                          0.0                      0.2   \n",
              "50%                          0.0                      0.5   \n",
              "75%                          0.1                      0.5   \n",
              "max                          1.0                      0.5   \n",
              "\n",
              "        abs_title_sentiment_polarity   shares  \n",
              "count                        39644.0  39644.0  \n",
              "mean                             0.2   3395.4  \n",
              "std                              0.2  11627.0  \n",
              "min                              0.0      1.0  \n",
              "25%                              0.0    946.0  \n",
              "50%                              0.0   1400.0  \n",
              "75%                              0.2   2800.0  \n",
              "max                              1.0 843300.0  \n",
              "\n",
              "[8 rows x 60 columns]"
            ]
          },
          "metadata": {
            "tags": []
          },
          "execution_count": 12
        }
      ]
    },
    {
      "metadata": {
        "id": "zVdDY8inJWSi",
        "colab_type": "text"
      },
      "cell_type": "markdown",
      "source": [
        "# EDA"
      ]
    },
    {
      "metadata": {
        "id": "u2Ff8UDFPnxk",
        "colab_type": "text"
      },
      "cell_type": "markdown",
      "source": [
        "Lets do some  EDA on our  n_tokens_content data"
      ]
    },
    {
      "metadata": {
        "id": "1uOpf-f8P5o9",
        "colab_type": "code",
        "colab": {
          "base_uri": "https://localhost:8080/",
          "height": 17
        },
        "outputId": "550df3dd-475b-4f44-ebd3-0e11ee7ebe3b"
      },
      "cell_type": "code",
      "source": [
        "content_tokens = mashable_df[' n_tokens_content']"
      ],
      "execution_count": 23,
      "outputs": []
    },
    {
      "metadata": {
        "id": "0xrdtdXtSR4o",
        "colab_type": "code",
        "colab": {
          "base_uri": "https://localhost:8080/",
          "height": 347
        },
        "outputId": "b5cd2c9d-2525-47ad-f3f9-b40f3da4d36a"
      },
      "cell_type": "code",
      "source": [
        "content_tokens.plot(kind='hist')\n",
        "plt.show()"
      ],
      "execution_count": 24,
      "outputs": [
        {
          "output_type": "display_data",
          "data": {
            "image/png": "[encoded data removed]",
            "text/plain": [
              "<matplotlib.figure.Figure at 0x7fd9e7e70b00>"
            ]
          },
          "metadata": {
            "tags": []
          }
        }
      ]
    },
    {
      "metadata": {
        "id": "OltF-uiuJ1xc",
        "colab_type": "code",
        "colab": {
          "base_uri": "https://localhost:8080/",
          "height": 364
        },
        "outputId": "8a1078f0-83c1-4523-80f8-25bf13f62b2d"
      },
      "cell_type": "code",
      "source": [
        "plt.plot(content_tokens,color='blue')"
      ],
      "execution_count": 26,
      "outputs": [
        {
          "output_type": "execute_result",
          "data": {
            "text/plain": [
              "[<matplotlib.lines.Line2D at 0x7fd9ea8eaac8>]"
            ]
          },
          "metadata": {
            "tags": []
          },
          "execution_count": 26
        },
        {
          "output_type": "display_data",
          "data": {
            "image/png": "[encoded data removed]",
            "text/plain": [
              "<matplotlib.figure.Figure at 0x7fd9eb4c1668>"
            ]
          },
          "metadata": {
            "tags": []
          }
        }
      ]
    },
    {
      "metadata": {
        "id": "3LyS66ZlRDZf",
        "colab_type": "code",
        "colab": {
          "base_uri": "https://localhost:8080/",
          "height": 364
        },
        "outputId": "5024a51a-3bbd-4c0c-ec93-976ed09c187a"
      },
      "cell_type": "code",
      "source": [
        "content_tokens.plot(kind='box')"
      ],
      "execution_count": 27,
      "outputs": [
        {
          "output_type": "execute_result",
          "data": {
            "text/plain": [
              "<matplotlib.axes._subplots.AxesSubplot at 0x7fda08efa9e8>"
            ]
          },
          "metadata": {
            "tags": []
          },
          "execution_count": 27
        },
        {
          "output_type": "display_data",
          "data": {
            "image/png": "[encoded data removed]",
            "text/plain": [
              "<matplotlib.figure.Figure at 0x7fd9e8797a58>"
            ]
          },
          "metadata": {
            "tags": []
          }
        }
      ]
    },
    {
      "metadata": {
        "id": "msAG4stZPz2T",
        "colab_type": "text"
      },
      "cell_type": "markdown",
      "source": [
        "Lets do EDA on our shares data"
      ]
    },
    {
      "metadata": {
        "id": "m2fg1WoKMsnV",
        "colab_type": "code",
        "colab": {
          "base_uri": "https://localhost:8080/",
          "height": 347
        },
        "outputId": "47885153-7402-4038-b9b5-caec2e60c6ec"
      },
      "cell_type": "code",
      "source": [
        "mashable_df[' shares'].plot(kind='hist')\n",
        "plt.xlim((0,199999))\n",
        "plt.show()"
      ],
      "execution_count": 18,
      "outputs": [
        {
          "output_type": "display_data",
          "data": {
            "image/png": "[encoded data removed]",
            "text/plain": [
              "<matplotlib.figure.Figure at 0x7fd9e86ebf60>"
            ]
          },
          "metadata": {
            "tags": []
          }
        }
      ]
    },
    {
      "metadata": {
        "id": "Y4uEbCKAMs9k",
        "colab_type": "code",
        "colab": {
          "base_uri": "https://localhost:8080/",
          "height": 364
        },
        "outputId": "3cd16046-fdb1-40b6-d314-c2cda69e006d"
      },
      "cell_type": "code",
      "source": [
        "num_shares = mashable_df[' shares']\n",
        "plt.plot(num_shares,color='blue')"
      ],
      "execution_count": 19,
      "outputs": [
        {
          "output_type": "execute_result",
          "data": {
            "text/plain": [
              "[<matplotlib.lines.Line2D at 0x7fd9e7f5eb70>]"
            ]
          },
          "metadata": {
            "tags": []
          },
          "execution_count": 19
        },
        {
          "output_type": "display_data",
          "data": {
            "image/png": "[encoded data removed]",
            "text/plain": [
              "<matplotlib.figure.Figure at 0x7fd9e8279518>"
            ]
          },
          "metadata": {
            "tags": []
          }
        }
      ]
    },
    {
      "metadata": {
        "id": "PKijNSgaPTzh",
        "colab_type": "code",
        "colab": {
          "base_uri": "https://localhost:8080/",
          "height": 34
        },
        "outputId": "8a3e9c16-a81e-4a8d-f6a5-8dc153a55204"
      },
      "cell_type": "code",
      "source": [
        "num_shares.count()\n",
        "num_shares.max()"
      ],
      "execution_count": 21,
      "outputs": [
        {
          "output_type": "execute_result",
          "data": {
            "text/plain": [
              "843300"
            ]
          },
          "metadata": {
            "tags": []
          },
          "execution_count": 21
        }
      ]
    },
    {
      "metadata": {
        "id": "T35YD26GKK4i",
        "colab_type": "code",
        "colab": {}
      },
      "cell_type": "code",
      "source": [
        "df.plot(kind='scatter',x=' n_tokens_content' , y=' shares')\n",
        "plt.show()"
      ],
      "execution_count": 0,
      "outputs": []
    },
    {
      "metadata": {
        "id": "-FeUkV1MSKjH",
        "colab_type": "code",
        "colab": {
          "base_uri": "https://localhost:8080/",
          "height": 347
        },
        "outputId": "46f1b59f-4036-4fb1-913b-4792bde4747f"
      },
      "cell_type": "code",
      "source": [
        "plt.scatter(num_shares, content_tokens)\n",
        "plt.show()"
      ],
      "execution_count": 28,
      "outputs": [
        {
          "output_type": "display_data",
          "data": {
            "image/png": "[encoded data removed]",
            "text/plain": [
              "<matplotlib.figure.Figure at 0x7fd9ea86e8d0>"
            ]
          },
          "metadata": {
            "tags": []
          }
        }
      ]
    },
    {
      "metadata": {
        "id": "wPpEU7GzT513",
        "colab_type": "text"
      },
      "cell_type": "markdown",
      "source": [
        "#Data Preprocessing\n"
      ]
    },
    {
      "metadata": {
        "id": "Z8I02RlQVSI2",
        "colab_type": "code",
        "colab": {
          "base_uri": "https://localhost:8080/",
          "height": 34
        },
        "outputId": "a0e8a531-9548-4925-e0f2-2a76849f673a"
      },
      "cell_type": "code",
      "source": [
        "num_shares.unique()"
      ],
      "execution_count": 30,
      "outputs": [
        {
          "output_type": "execute_result",
          "data": {
            "text/plain": [
              "array([  593,   711,  1500, ..., 34500, 25600, 45000])"
            ]
          },
          "metadata": {
            "tags": []
          },
          "execution_count": 30
        }
      ]
    },
    {
      "metadata": {
        "id": "iieobSKHVzm0",
        "colab_type": "code",
        "colab": {
          "base_uri": "https://localhost:8080/",
          "height": 34
        },
        "outputId": "0d92e5e0-a842-4df6-dd10-639b699e3643"
      },
      "cell_type": "code",
      "source": [
        "num_shares.notnull().all()"
      ],
      "execution_count": 33,
      "outputs": [
        {
          "output_type": "execute_result",
          "data": {
            "text/plain": [
              "True"
            ]
          },
          "metadata": {
            "tags": []
          },
          "execution_count": 33
        }
      ]
    },
    {
      "metadata": {
        "id": "ySOarrbtWME8",
        "colab_type": "code",
        "colab": {
          "base_uri": "https://localhost:8080/",
          "height": 34
        },
        "outputId": "3966f273-ea95-4dea-ed0a-823c3fdb93e0"
      },
      "cell_type": "code",
      "source": [
        "content_tokens.notnull().all()"
      ],
      "execution_count": 32,
      "outputs": [
        {
          "output_type": "execute_result",
          "data": {
            "text/plain": [
              "True"
            ]
          },
          "metadata": {
            "tags": []
          },
          "execution_count": 32
        }
      ]
    },
    {
      "metadata": {
        "id": "qRyHhAECWnfi",
        "colab_type": "text"
      },
      "cell_type": "markdown",
      "source": [
        "With that all done now we can start building our ML pipeline"
      ]
    },
    {
      "metadata": {
        "id": "7LNpnGbqWtHi",
        "colab_type": "text"
      },
      "cell_type": "markdown",
      "source": [
        "# ML Pipline"
      ]
    },
    {
      "metadata": {
        "id": "SnIzBbemWSjn",
        "colab_type": "code",
        "colab": {}
      },
      "cell_type": "code",
      "source": [
        "#Define input feature\n",
        "my_feature = content_tokens\n",
        "\n",
        "#make a numeric feature column for n_token_content\n",
        "feature_columns = [tf.feature_column.numeric_column(\"total_words\")]"
      ],
      "execution_count": 0,
      "outputs": []
    },
    {
      "metadata": {
        "id": "0Ys5Aan_XSJp",
        "colab_type": "code",
        "colab": {}
      },
      "cell_type": "code",
      "source": [
        "#lets define our target label\n",
        "targets = num_shares"
      ],
      "execution_count": 0,
      "outputs": []
    },
    {
      "metadata": {
        "id": "rfndGZ5rXr-9",
        "colab_type": "text"
      },
      "cell_type": "markdown",
      "source": [
        "## Build the linear regressor"
      ]
    },
    {
      "metadata": {
        "id": "fQGc1n_HXwPT",
        "colab_type": "code",
        "colab": {}
      },
      "cell_type": "code",
      "source": [
        "#Using gradient descent as the optimizer for training our model\n",
        "my_optimizer=tf.train.GradientDescentOptimizer(learning_rate=0.0000001)\n",
        "my_optimizer = tf.contrib.estimator.clip_gradients_by_norm(my_optimizer, 5.0)\n",
        "\n",
        "# configure the linear reg model with feature cols and optimizer\n",
        "linear_regressor = tf.estimator.LinearRegressor(\n",
        "     feature_columns=feature_columns,\n",
        "     optimizer=my_optimizer\n",
        ")"
      ],
      "execution_count": 0,
      "outputs": []
    },
    {
      "metadata": {
        "id": "_HM5RBtYYgc9",
        "colab_type": "text"
      },
      "cell_type": "markdown",
      "source": [
        "## Create the input function"
      ]
    },
    {
      "metadata": {
        "id": "2SXl3iJYYxiR",
        "colab_type": "code",
        "colab": {}
      },
      "cell_type": "code",
      "source": [
        ""
      ],
      "execution_count": 0,
      "outputs": []
    }
  ]
}