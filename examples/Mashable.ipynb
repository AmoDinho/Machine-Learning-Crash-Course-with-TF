{
  "nbformat": 4,
  "nbformat_minor": 0,
  "metadata": {
    "colab": {
      "name": "Mashable.ipynb",
      "version": "0.3.2",
      "provenance": []
    },
    "kernelspec": {
      "name": "python3",
      "display_name": "Python 3"
    }
  },
  "cells": [
    {
      "cell_type": "markdown",
      "metadata": {
        "id": "view-in-github",
        "colab_type": "text"
      },
      "source": [
        "[View in Colaboratory](https://colab.research.google.com/github/AmoDinho/Machine-Learning-Crash-Course-with-TF/blob/master/examples/Mashable.ipynb)"
      ]
    },
    {
      "metadata": {
        "id": "2WqVNG2oMvfR",
        "colab_type": "text"
      },
      "cell_type": "markdown",
      "source": [
        "# Predicting the number of shares in social networks on Mashable's articles"
      ]
    },
    {
      "metadata": {
        "id": "cYydLXj3NY14",
        "colab_type": "text"
      },
      "cell_type": "markdown",
      "source": [
        "This dataset was obtained from the [UCI Machine Learning Repo](https://archive.ics.uci.edu/ml/datasets/). The goal is really simple, we will use a linear regression model to predict the number of shares on social media of Mashable's articles based on the number of words in the content using Tensor Flow.  "
      ]
    },
    {
      "metadata": {
        "id": "dhCBzhbNOI37",
        "colab_type": "text"
      },
      "cell_type": "markdown",
      "source": [
        "new"
      ]
    }
  ]
}